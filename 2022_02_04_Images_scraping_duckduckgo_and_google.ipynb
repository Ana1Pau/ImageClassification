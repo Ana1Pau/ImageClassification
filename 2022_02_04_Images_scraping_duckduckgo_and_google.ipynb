{
  "nbformat": 4,
  "nbformat_minor": 0,
  "metadata": {
    "colab": {
      "name": "2022-02-04-Images-scraping-duckduckgo-and-google.ipynb",
      "provenance": [],
      "collapsed_sections": [],
      "include_colab_link": true
    },
    "kernelspec": {
      "name": "python3",
      "display_name": "Python 3"
    }
  },
  "cells": [
    {
      "cell_type": "markdown",
      "metadata": {
        "id": "view-in-github",
        "colab_type": "text"
      },
      "source": [
        "<a href=\"https://colab.research.google.com/github/Ana1Pau/ImageClassification/blob/main/2022_02_04_Images_scraping_duckduckgo_and_google.ipynb\" target=\"_parent\"><img src=\"https://colab.research.google.com/assets/colab-badge.svg\" alt=\"Open In Colab\"/></a>"
      ]
    },
    {
      "cell_type": "markdown",
      "metadata": {
        "id": "q44jBo_X0zsT"
      },
      "source": [
        "# \"Image scraping DuckDuckGo and Google\"\n",
        "> \"Image scraper notebook for creating DL datasets\"\n",
        "\n",
        "- toc: true\n",
        "- badges: true\n",
        "- comments: true\n",
        "- categories: [DL,Projects,Tools]\n",
        "- permalink: \"/projects/imagescraper/\""
      ]
    },
    {
      "cell_type": "code",
      "metadata": {
        "id": "VpXxskqU70lb"
      },
      "source": [
        "\n",
        "#hide\n",
        "from IPython.display import Image as IPImage\n",
        "\n",
        "def url_image(url):\n",
        "  display(IPImage(url=url))\n",
        "\n",
        "def local_image(fn):\n",
        "  display(IPImage(filename=fn))"
      ],
      "execution_count": null,
      "outputs": []
    },
    {
      "cell_type": "code",
      "source": [
        "from google.colab import files   # file download\n"
      ],
      "metadata": {
        "id": "c563kSl4klO2"
      },
      "execution_count": null,
      "outputs": []
    },
    {
      "cell_type": "code",
      "source": [
        "pip install jmd_imagescraper"
      ],
      "metadata": {
        "id": "shJOlEH1cF32"
      },
      "execution_count": null,
      "outputs": []
    },
    {
      "cell_type": "code",
      "source": [
        "from jmd_imagescraper.core import * "
      ],
      "metadata": {
        "id": "Pm7IHrBpcE8i"
      },
      "execution_count": null,
      "outputs": []
    },
    {
      "cell_type": "markdown",
      "metadata": {
        "id": "zga2kYYG1b4R"
      },
      "source": [
        "I’ve written a notebook for scraping images from DuckDuckGo and Google for the purpose of creating DL datasets.\n",
        "\n"
      ]
    },
    {
      "cell_type": "markdown",
      "metadata": {
        "id": "xaIIMbE-2hym"
      },
      "source": [
        "You download images by labels like so:"
      ]
    },
    {
      "cell_type": "code",
      "metadata": {
        "id": "8vw7K4ULGz-8"
      },
      "source": [
        "ZIP_NAME = \"Pop Art.zip\"\n",
        "\n",
        "duckduckgo_search(ZIP_NAME,\"Pop Art\",\"pop art\", max_results=20)\n",
        "duckduckgo_search(ZIP_NAME,\"Andy Warhol\",\"Andy Warhol\", max_results=20)\n",
        "duckduckgo_search(ZIP_NAME,\"Greg Mike\",\"The art of Greg Mike\", max_results=20)\n",
        "#duckduckgo_search(ZIP_NAME,\"Elegant Garden\",\"elegant garden\", max_results=20)"
      ],
      "execution_count": null,
      "outputs": []
    },
    {
      "cell_type": "markdown",
      "metadata": {
        "id": "mbn8dImz11qN"
      },
      "source": [
        "You can constrain DDG searches as follows:\n",
        "\n",
        "```\n",
        "duckduckgo_search(label: str, keywords: str, max_results: int=100,\n",
        "                      img_size: ImgSize=ImgSize.Thumbs, \n",
        "                      img_type: ImgType=ImgType.Photo,\n",
        "                      img_layout: ImgLayout=ImgLayout.Square,\n",
        "                      img_color: ImgColor=ImgColor.All) -> None:\n",
        "\n",
        "img_size can be one of the following: (default=ImgSize.Thumbs)\n",
        "Thumbs, Small, Medium, Large, Wallpaper\n",
        " \n",
        "img_type can be one of the following: (default=ImgType.Photo)\n",
        "All, Photo, Clipart, Gif, Transparent\n",
        "\n",
        "img_layout can be one of the following: (default=ImgLayout.Square)\n",
        "All, Square, Tall, Wide\n",
        "  \n",
        "img_color can be one of the following: (default = ImgColor.All)\n",
        "All, Color, Monochrome, Red, Orange, Yellow, Green, Blue, Purple, Pink, Brown, Black, Gray, Teal, White\n",
        "```"
      ]
    },
    {
      "cell_type": "markdown",
      "metadata": {
        "id": "j4dwxx_b0pRV"
      },
      "source": [
        "Then you can run an image cleaner inside the notebook to get rid of anything which doesn't belong."
      ]
    },
    {
      "cell_type": "code",
      "metadata": {
        "id": "fAqgMnZN8GK9"
      },
      "source": [
        "#hide_input\n",
        "#local_image(\"scr_clean.jpg\")\n",
        "from jmd_imagescraper.imagecleaner import *\n",
        "\n",
        "a=display_image_cleaner(ZIP_NAME)"
      ],
      "execution_count": null,
      "outputs": []
    },
    {
      "cell_type": "code",
      "source": [
        "#Downloading csv\n",
        "CSV_NAME = \"gardens.csv\" \n",
        "!rm -f {CSV_NAME}\n",
        "\n",
        "from pathlib import Path\n",
        "\n",
        "\n",
        "csv = Path.cwd()/CSV_NAME\n",
        "save_urls_to_csv(csv, \"Garden\",\"small garden\", max_results=20)\n",
        "save_urls_to_csv(csv, \"Garden\",\"big garden\", max_results=20)\n",
        "save_urls_to_csv(csv, \"Garden\",\"elegant garden\", max_results=20)\n",
        "\n",
        "from google.colab import files\n",
        "files.download(CSV_NAME)\n"
      ],
      "metadata": {
        "id": "xsvt_-8lkACZ",
        "outputId": "413462b2-99ac-481a-c68f-23dba0839eb2",
        "colab": {
          "base_uri": "https://localhost:8080/",
          "height": 17
        }
      },
      "execution_count": null,
      "outputs": [
        {
          "output_type": "display_data",
          "data": {
            "text/plain": [
              "<IPython.core.display.Javascript object>"
            ],
            "application/javascript": [
              "\n",
              "    async function download(id, filename, size) {\n",
              "      if (!google.colab.kernel.accessAllowed) {\n",
              "        return;\n",
              "      }\n",
              "      const div = document.createElement('div');\n",
              "      const label = document.createElement('label');\n",
              "      label.textContent = `Downloading \"${filename}\": `;\n",
              "      div.appendChild(label);\n",
              "      const progress = document.createElement('progress');\n",
              "      progress.max = size;\n",
              "      div.appendChild(progress);\n",
              "      document.body.appendChild(div);\n",
              "\n",
              "      const buffers = [];\n",
              "      let downloaded = 0;\n",
              "\n",
              "      const channel = await google.colab.kernel.comms.open(id);\n",
              "      // Send a message to notify the kernel that we're ready.\n",
              "      channel.send({})\n",
              "\n",
              "      for await (const message of channel.messages) {\n",
              "        // Send a message to notify the kernel that we're ready.\n",
              "        channel.send({})\n",
              "        if (message.buffers) {\n",
              "          for (const buffer of message.buffers) {\n",
              "            buffers.push(buffer);\n",
              "            downloaded += buffer.byteLength;\n",
              "            progress.value = downloaded;\n",
              "          }\n",
              "        }\n",
              "      }\n",
              "      const blob = new Blob(buffers, {type: 'application/binary'});\n",
              "      const a = document.createElement('a');\n",
              "      a.href = window.URL.createObjectURL(blob);\n",
              "      a.download = filename;\n",
              "      div.appendChild(a);\n",
              "      a.click();\n",
              "      div.remove();\n",
              "    }\n",
              "  "
            ]
          },
          "metadata": {}
        },
        {
          "output_type": "display_data",
          "data": {
            "text/plain": [
              "<IPython.core.display.Javascript object>"
            ],
            "application/javascript": [
              "download(\"download_20e80bf6-4bc4-4789-9368-195a917b210e\", \"gardens.csv\", 4630)"
            ]
          },
          "metadata": {}
        }
      ]
    },
    {
      "cell_type": "markdown",
      "metadata": {
        "id": "H6KTdjEY0Fix"
      },
      "source": [
        "After that you zip it all up, and either download it or transfer it to your Google Drive.\n",
        " \n",
        "You can also distribute CSV files with URL/label pairs if you want a massive dataset and a small distributable, and have people download the images themselves.\n",
        " \n",
        "You can find it here: [github.com/joedockrill/image-scraper](https://github.com/joedockrill/image-scraper)"
      ]
    }
  ]
}